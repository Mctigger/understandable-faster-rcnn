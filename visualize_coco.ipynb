{
 "cells": [
  {
   "cell_type": "code",
   "execution_count": 1,
   "metadata": {},
   "outputs": [],
   "source": [
    "%load_ext autoreload\n",
    "%autoreload 2\n",
    "\n",
    "import os\n",
    "os.environ[\"CUDA_VISIBLE_DEVICES\"]=\"1, 0\""
   ]
  },
  {
   "cell_type": "code",
   "execution_count": null,
   "metadata": {},
   "outputs": [
    {
     "name": "stdout",
     "output_type": "stream",
     "text": [
      "loading annotations into memory...\n",
      "Done (t=18.72s)\n",
      "creating index...\n",
      "index created!\n"
     ]
    },
    {
     "name": "stderr",
     "output_type": "stream",
     "text": [
      "Epoch 0:   0%|          | 0/7393 [00:00<?, ?it/s]/home/tim/.conda/envs/kaggle-auto/lib/python3.7/site-packages/torch/nn/parallel/_functions.py:61: UserWarning: Was asked to gather along dimension 0, but all input tensors were scalars; will instead unsqueeze and return a vector.\n",
      "  warnings.warn('Was asked to gather along dimension 0, but all '\n",
      "Epoch 0:  22%|██▏       | 1608/7393 [32:45<1:57:36,  1.22s/it, loss=382, rpn_cls_loss=0.0593, rpn_reg_loss=10.5, rcnn_cls_loss=1.24, rcnn_reg_loss=27.6, accuracy=34.9, offsets=28.1]"
     ]
    }
   ],
   "source": [
    "from main_coco import train\n",
    "\n",
    "faster_rcnn, dataset = train()"
   ]
  },
  {
   "cell_type": "code",
   "execution_count": null,
   "metadata": {},
   "outputs": [],
   "source": [
    "from torch.nn import functional as F\n",
    "import torchvision.transforms as transforms\n",
    "from torch import autograd, nn, optim, utils\n",
    "from dataset_coco import detection_collate, CocoDataset\n",
    "\n",
    "\n",
    "dataset = CocoDataset(\"data/coco/val2017\", \"data/coco/annotations/instances_val2017.json\")\n",
    "dataloader = utils.data.DataLoader(dataset, batch_size=1, num_workers=12, collate_fn=detection_collate)\n",
    "dataloader_iter = iter(dataloader)"
   ]
  },
  {
   "cell_type": "code",
   "execution_count": null,
   "metadata": {},
   "outputs": [],
   "source": [
    "img, targets, classes = next(dataloader_iter)"
   ]
  },
  {
   "cell_type": "code",
   "execution_count": null,
   "metadata": {},
   "outputs": [],
   "source": [
    "import matplotlib.pyplot as plt\n",
    "%matplotlib inline\n",
    "\n",
    "import torch\n",
    "\n",
    "img = img.float().cuda()\n",
    "targets = targets.detach().float().cuda()\n",
    "img_id = torch.arange(0, img.size()[0])\n",
    "\n",
    "fig, ax = plt.subplots(figsize=(15, 15))\n",
    "visualize_rpn(ax, targets.cpu()[0], classes.cpu()[0], img.cpu()[0])"
   ]
  },
  {
   "cell_type": "code",
   "execution_count": null,
   "metadata": {},
   "outputs": [],
   "source": [
    "from lib.predictor_efficient import FasterRCNNPredictor\n",
    "faster_rcnn_predictor = FasterRCNNPredictor(faster_rcnn).cuda()"
   ]
  },
  {
   "cell_type": "code",
   "execution_count": null,
   "metadata": {},
   "outputs": [],
   "source": [
    "import matplotlib.pyplot as plt\n",
    "%matplotlib inline\n",
    "\n",
    "import torch\n",
    "\n",
    "img, targets, classes = next(dataloader_iter)\n",
    "img = img.float().cuda()\n",
    "targets = targets.detach().float().cuda()\n",
    "img_id = torch.arange(0, img.size()[0])\n",
    "\n",
    "nms_reg_rounded, nms_reg, nms_cls, rcnn_reg, rcnn_cls, reg, cls = faster_rcnn_predictor(img, img_id)\n",
    "\n",
    "i = 1\n",
    "\n",
    "fig, ax = plt.subplots(figsize=(10, 10))\n",
    "np_img = img_to_np(img[i])\n",
    "ax.imshow(np_img)\n",
    "visualize_rpn(ax, nms_reg.cpu()[i], nms_cls.cpu()[i], img.cpu()[i], [1.0, 1.0, 1.0], draw_all=False)\n",
    "plt.show()"
   ]
  },
  {
   "cell_type": "code",
   "execution_count": null,
   "metadata": {},
   "outputs": [],
   "source": [
    "fig, ax = plt.subplots(figsize=(10, 10))\n",
    "np_img = img_to_np(img[i])\n",
    "ax.imshow(np_img)\n",
    "visualize_rcnn(ax, reg[i].cpu(), cls[i].cpu(), color_map)\n",
    "plt.show()"
   ]
  },
  {
   "cell_type": "code",
   "execution_count": null,
   "metadata": {},
   "outputs": [],
   "source": [
    "rpn_reg, rpn_cls, nms_reg, nms_cls, rcnn_reg, rcnn_cls, anchors = faster_rcnn(img, img_id)\n",
    "_, _, p_rcnn_reg, p_rcnn_cls, reg, cls = faster_rcnn_predictor(img, img_id)"
   ]
  },
  {
   "cell_type": "code",
   "execution_count": null,
   "metadata": {},
   "outputs": [],
   "source": [
    "print(rcnn_cls.shape, rcnn_reg.shape) \n",
    "\n",
    "from torch.nn import functional as F\n",
    "\n",
    "rcnn_cls_mask = F.softmax(rcnn_cls[0, :])[:, 0] < 0.1\n",
    "p_rcnn_cls_mask = F.softmax(p_rcnn_cls[0, :])[:, 0] < 0.1\n",
    "\n",
    "r = rcnn_reg[0][rcnn_cls_mask, :]\n",
    "p_r = p_rcnn_reg[0][p_rcnn_cls_mask, :]\n",
    "r_nms = nms_reg[0][rcnn_cls_mask, :]\n",
    "r_nms_cls = nms_cls[0][rcnn_cls_mask]\n",
    "print(r.shape, p_r.shape, r_nms.shape)"
   ]
  },
  {
   "cell_type": "code",
   "execution_count": null,
   "metadata": {},
   "outputs": [],
   "source": [
    "r"
   ]
  },
  {
   "cell_type": "code",
   "execution_count": null,
   "metadata": {},
   "outputs": [],
   "source": [
    "p_r"
   ]
  },
  {
   "cell_type": "code",
   "execution_count": null,
   "metadata": {},
   "outputs": [],
   "source": [
    "r_nms"
   ]
  },
  {
   "cell_type": "code",
   "execution_count": null,
   "metadata": {},
   "outputs": [],
   "source": [
    "F.softmax(rcnn_cls[0, rcnn_cls_mask, :])"
   ]
  },
  {
   "cell_type": "code",
   "execution_count": null,
   "metadata": {},
   "outputs": [],
   "source": [
    "torch.sigmoid(r_nms_cls)"
   ]
  },
  {
   "cell_type": "code",
   "execution_count": null,
   "metadata": {},
   "outputs": [],
   "source": [
    "fig, ax = plt.subplots(figsize=(10, 10))\n",
    "visualize_rpn(ax, r_nms.cpu(), r_nms_cls.cpu(), img.cpu()[0], color_map, draw_all=True)"
   ]
  },
  {
   "cell_type": "code",
   "execution_count": null,
   "metadata": {},
   "outputs": [],
   "source": [
    "nms_reg_rounded = torch.round(r_nms * faster_rcnn.reduction) // faster_rcnn.reduction\n",
    "\n",
    "fig, ax = plt.subplots(figsize=(10, 10))\n",
    "visualize_rpn(ax, nms_reg_rounded.cpu()[:2], r_nms_cls.cpu()[:2], img.cpu()[0], color_map, draw_all=True)"
   ]
  },
  {
   "cell_type": "code",
   "execution_count": null,
   "metadata": {},
   "outputs": [],
   "source": [
    "rcnn_cls[0, :, 0]"
   ]
  },
  {
   "cell_type": "code",
   "execution_count": null,
   "metadata": {},
   "outputs": [],
   "source": []
  },
  {
   "cell_type": "code",
   "execution_count": null,
   "metadata": {},
   "outputs": [],
   "source": []
  }
 ],
 "metadata": {
  "kernelspec": {
   "display_name": "kaggle-auto",
   "language": "python",
   "name": "kaggle-auto"
  },
  "language_info": {
   "codemirror_mode": {
    "name": "ipython",
    "version": 3
   },
   "file_extension": ".py",
   "mimetype": "text/x-python",
   "name": "python",
   "nbconvert_exporter": "python",
   "pygments_lexer": "ipython3",
   "version": "3.7.5"
  }
 },
 "nbformat": 4,
 "nbformat_minor": 4
}
