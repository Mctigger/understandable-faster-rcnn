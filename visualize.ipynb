{
 "cells": [
  {
   "cell_type": "code",
   "execution_count": 1,
   "metadata": {},
   "outputs": [],
   "source": [
    "%load_ext autoreload\n",
    "%autoreload 2\n",
    "\n",
    "import os\n",
    "os.environ[\"CUDA_VISIBLE_DEVICES\"]=\"1\""
   ]
  },
  {
   "cell_type": "code",
   "execution_count": 2,
   "metadata": {},
   "outputs": [
    {
     "name": "stderr",
     "output_type": "stream",
     "text": [
      "Epoch 0: 100%|██████████| 250/250 [00:41<00:00,  6.01it/s, loss=77, rpn_cls_loss=0.071, rpn_reg_loss=6.87, rcnn_cls_loss=0.614, rcnn_reg_loss=0.757, accuracy=79.4]   \n",
      "Epoch 1: 100%|██████████| 250/250 [00:41<00:00,  5.98it/s, loss=31.8, rpn_cls_loss=0.026, rpn_reg_loss=3.08, rcnn_cls_loss=0.36, rcnn_reg_loss=0.0548, accuracy=84]    \n",
      "Epoch 2: 100%|██████████| 250/250 [00:41<00:00,  6.03it/s, loss=22.7, rpn_cls_loss=0.0192, rpn_reg_loss=2.21, rcnn_cls_loss=0.304, rcnn_reg_loss=0.0281, accuracy=88.3]\n",
      "Epoch 3: 100%|██████████| 250/250 [00:41<00:00,  5.99it/s, loss=18.6, rpn_cls_loss=0.0169, rpn_reg_loss=1.8, rcnn_cls_loss=0.264, rcnn_reg_loss=0.0309, accuracy=91.6] \n",
      "Epoch 4: 100%|██████████| 250/250 [00:41<00:00,  5.96it/s, loss=13.3, rpn_cls_loss=0.0153, rpn_reg_loss=1.3, rcnn_cls_loss=0.23, rcnn_reg_loss=0.00839, accuracy=95.5]  \n",
      "Epoch 5: 100%|██████████| 250/250 [00:42<00:00,  5.93it/s, loss=12.3, rpn_cls_loss=0.0149, rpn_reg_loss=1.2, rcnn_cls_loss=0.218, rcnn_reg_loss=0.00755, accuracy=96.1] \n",
      "Epoch 6: 100%|██████████| 250/250 [00:41<00:00,  6.02it/s, loss=11.8, rpn_cls_loss=0.0148, rpn_reg_loss=1.15, rcnn_cls_loss=0.209, rcnn_reg_loss=0.00718, accuracy=96.2]\n",
      "Epoch 7: 100%|██████████| 250/250 [00:42<00:00,  5.87it/s, loss=11.1, rpn_cls_loss=0.0146, rpn_reg_loss=1.08, rcnn_cls_loss=0.203, rcnn_reg_loss=0.0067, accuracy=96.4] \n",
      "Epoch 8: 100%|██████████| 250/250 [00:41<00:00,  5.95it/s, loss=10.6, rpn_cls_loss=0.0145, rpn_reg_loss=1.03, rcnn_cls_loss=0.193, rcnn_reg_loss=0.00617, accuracy=96.6] \n",
      "Epoch 9: 100%|██████████| 250/250 [00:42<00:00,  5.84it/s, loss=10.5, rpn_cls_loss=0.0144, rpn_reg_loss=1.03, rcnn_cls_loss=0.192, rcnn_reg_loss=0.00608, accuracy=96.7]\n"
     ]
    }
   ],
   "source": [
    "from main import train\n",
    "\n",
    "faster_rcnn = train()"
   ]
  },
  {
   "cell_type": "code",
   "execution_count": 3,
   "metadata": {},
   "outputs": [],
   "source": [
    "import numpy as np\n",
    "\n",
    "from helper import draw_bbox, img_to_np\n",
    "from dataset_test import color_map\n",
    "\n",
    "\n",
    "def visualize_rcnn(ax, rcnn_reg, rcnn_cls, img, color_map):\n",
    "    rcnn_cls = F.softmax(rcnn_cls, dim=1)\n",
    "\n",
    "    np_img = img_to_np(img)\n",
    "\n",
    "    for rcnn_r, rcnn_c in zip(rcnn_reg, rcnn_cls):\n",
    "        cls, index = torch.max(rcnn_c, dim=0)\n",
    "        \n",
    "        if index == 0:\n",
    "            continue\n",
    "        \n",
    "        cls_color = color_map[0]\n",
    "        if int(index) in color_map:\n",
    "            cls_color = color_map[int(index)]\n",
    "\n",
    "        np_img = draw_bbox(np_img, torch.round(rcnn_r).long(), np.array(cls_color))\n",
    "\n",
    "    ax.imshow(np_img)\n",
    "    \n",
    "    \n",
    "def visualize_rpn(ax, nms_reg, nms_cls, img, color_map, draw_all=False):\n",
    "    nms_cls = F.sigmoid(nms_cls)\n",
    "\n",
    "    np_img = img_to_np(img)\n",
    "\n",
    "    for r, c in zip(nms_reg, nms_cls):\n",
    "        if c >= 0.5 or draw_all:\n",
    "            np_img = draw_bbox(np_img, torch.round(r).long(), [255, 255, 255])\n",
    "\n",
    "    ax.imshow(np_img)"
   ]
  },
  {
   "cell_type": "code",
   "execution_count": 4,
   "metadata": {},
   "outputs": [],
   "source": [
    "from torch.nn import functional as F\n",
    "import torchvision.transforms as transforms\n",
    "from torch import autograd, nn, optim, utils\n",
    "\n",
    "from dataset_test import Dataset, color_map\n",
    "from modules.predictor import FasterRCNNPredictor\n",
    "\n",
    "dataset = Dataset(transforms.Compose([transforms.ToTensor()]))\n",
    "dataloader = utils.data.DataLoader(dataset, batch_size=4, num_workers=12, shuffle=True)\n",
    "\n",
    "faster_rcnn_predictor = FasterRCNNPredictor(faster_rcnn).cuda()\n",
    "\n",
    "dataloader_iter = iter(dataloader)"
   ]
  },
  {
   "cell_type": "code",
   "execution_count": 23,
   "metadata": {},
   "outputs": [
    {
     "data": {
      "image/png": "[encoded data removed]",
      "text/plain": [
       "<Figure size 720x720 with 1 Axes>"
      ]
     },
     "metadata": {
      "needs_background": "light"
     },
     "output_type": "display_data"
    }
   ],
   "source": [
    "import matplotlib.pyplot as plt\n",
    "%matplotlib inline\n",
    "\n",
    "import torch\n",
    "\n",
    "img, targets, classes = next(dataloader_iter)\n",
    "img = img.float().cuda()\n",
    "targets = targets.detach().float().cuda()\n",
    "img_id = torch.arange(0, img.size()[0])\n",
    "\n",
    "nms_reg, nms_cls, rcnn_reg, rcnn_cls = faster_rcnn_predictor(img, img_id)\n",
    "\n",
    "fig, ax = plt.subplots(figsize=(10, 10))\n",
    "visualize_rpn(ax, nms_reg.cpu()[0], nms_cls.cpu()[0], img.cpu()[0], color_map)\n"
   ]
  },
  {
   "cell_type": "code",
   "execution_count": 24,
   "metadata": {},
   "outputs": [
    {
     "data": {
      "image/png": "[encoded data removed]",
      "text/plain": [
       "<Figure size 720x720 with 1 Axes>"
      ]
     },
     "metadata": {
      "needs_background": "light"
     },
     "output_type": "display_data"
    }
   ],
   "source": [
    "fig, ax = plt.subplots(figsize=(10, 10))\n",
    "visualize_rcnn(ax, rcnn_reg.cpu()[0], rcnn_cls.cpu()[0], img.cpu()[0], color_map)\n"
   ]
  },
  {
   "cell_type": "code",
   "execution_count": 22,
   "metadata": {},
   "outputs": [],
   "source": [
    "rpn_reg, rpn_cls, nms_reg, nms_cls, rcnn_reg, rcnn_cls, anchors = faster_rcnn(img, img_id)\n",
    "_, _, p_rcnn_reg, p_rcnn_cls = faster_rcnn_predictor(img, img_id)"
   ]
  },
  {
   "cell_type": "code",
   "execution_count": 8,
   "metadata": {},
   "outputs": [
    {
     "name": "stdout",
     "output_type": "stream",
     "text": [
      "torch.Size([4, 300, 4]) torch.Size([4, 300, 4])\n",
      "torch.Size([14, 4]) torch.Size([14, 4]) torch.Size([14, 4])\n"
     ]
    },
    {
     "name": "stderr",
     "output_type": "stream",
     "text": [
      "/home/tim/.conda/envs/kaggle-auto/lib/python3.7/site-packages/ipykernel_launcher.py:5: UserWarning: Implicit dimension choice for softmax has been deprecated. Change the call to include dim=X as an argument.\n",
      "  \"\"\"\n",
      "/home/tim/.conda/envs/kaggle-auto/lib/python3.7/site-packages/ipykernel_launcher.py:6: UserWarning: Implicit dimension choice for softmax has been deprecated. Change the call to include dim=X as an argument.\n",
      "  \n"
     ]
    }
   ],
   "source": [
    "print(rcnn_cls.shape, rcnn_reg.shape) \n",
    "\n",
    "from torch.nn import functional as F\n",
    "\n",
    "rcnn_cls_mask = F.softmax(rcnn_cls[0, :])[:, 0] < 0.1\n",
    "p_rcnn_cls_mask = F.softmax(p_rcnn_cls[0, :])[:, 0] < 0.1\n",
    "\n",
    "r = rcnn_reg[0][rcnn_cls_mask, :]\n",
    "p_r = p_rcnn_reg[0][p_rcnn_cls_mask, :]\n",
    "r_nms = nms_reg[0][rcnn_cls_mask, :]\n",
    "r_nms_cls = nms_cls[0][rcnn_cls_mask]\n",
    "print(r.shape, p_r.shape, r_nms.shape)"
   ]
  },
  {
   "cell_type": "code",
   "execution_count": 9,
   "metadata": {},
   "outputs": [
    {
     "data": {
      "text/plain": [
       "tensor([[ 0.0064,  0.0503, -0.0918, -0.0199],\n",
       "        [-0.1000,  0.0428, -0.0927, -0.0909],\n",
       "        [ 0.0283,  0.0143,  0.1596,  0.3598],\n",
       "        [ 0.2629, -0.1147,  0.1245,  0.1458],\n",
       "        [-0.0118, -0.3378,  0.1523, -0.0127],\n",
       "        [-0.1177, -0.4335, -0.1314, -0.0880],\n",
       "        [-0.2862, -0.6322, -0.1382,  0.0007],\n",
       "        [-0.1276,  0.0669, -0.0688,  0.0846],\n",
       "        [-0.0212, -0.3276, -0.0763, -0.0280],\n",
       "        [ 0.0933,  0.0629,  0.1165,  0.4490],\n",
       "        [ 0.0934, -0.1786,  0.0923, -0.0601],\n",
       "        [-0.1498, -0.0874, -0.2244,  0.1241],\n",
       "        [ 0.0877,  0.0878, -0.0998,  0.5759],\n",
       "        [ 0.0464,  0.2289, -0.0326,  0.1048]], device='cuda:0',\n",
       "       grad_fn=<IndexBackward>)"
      ]
     },
     "execution_count": 9,
     "metadata": {},
     "output_type": "execute_result"
    }
   ],
   "source": [
    "r"
   ]
  },
  {
   "cell_type": "code",
   "execution_count": 10,
   "metadata": {},
   "outputs": [
    {
     "data": {
      "text/plain": [
       "tensor([[ 16.5136, 102.4387,  88.6528, 221.4493],\n",
       "        [136.0022, 116.1043, 216.5823, 199.2748],\n",
       "        [ 17.8090,  97.3689,  90.2166, 226.5428],\n",
       "        [ 21.0343, 100.9848,  89.9593, 221.9963],\n",
       "        [ 15.2463,  95.5720,  89.7450, 222.7842],\n",
       "        [134.5855, 116.2582, 213.4864, 202.3663],\n",
       "        [ 13.6839,  93.4266,  87.1554, 224.0526],\n",
       "        [133.7881, 117.3510, 218.4931, 198.7647],\n",
       "        [ 14.3059,  96.5508,  89.8923, 221.3116],\n",
       "        [135.4640, 116.0272, 217.3235, 204.7352],\n",
       "        [135.4735, 113.7126, 215.3831, 203.1919],\n",
       "        [ 20.0165, 103.6105,  94.0456, 219.9179],\n",
       "        [ 23.0144, 103.0238,  88.0183, 222.0718],\n",
       "        [132.4586, 117.9729, 220.8732, 202.0614]], device='cuda:0',\n",
       "       grad_fn=<IndexBackward>)"
      ]
     },
     "execution_count": 10,
     "metadata": {},
     "output_type": "execute_result"
    }
   ],
   "source": [
    "p_r"
   ]
  },
  {
   "cell_type": "code",
   "execution_count": 11,
   "metadata": {},
   "outputs": [
    {
     "data": {
      "text/plain": [
       "tensor([[ 16.8068, 100.0594,  91.3205, 222.9107],\n",
       "        [136.7312, 115.1872, 219.3582, 203.8183],\n",
       "        [ 17.1120,  98.5019,  86.0889, 191.8297],\n",
       "        [  5.9709, 105.1924,  80.6207, 215.2782],\n",
       "        [ 20.2946, 135.1716,  87.3450, 222.6768],\n",
       "        [148.2201, 136.3365, 223.2350, 207.8368],\n",
       "        [ 24.9113, 150.8391,  94.1673, 225.5841],\n",
       "        [150.0742, 114.6523, 222.0374, 190.1974],\n",
       "        [  8.2155, 122.2062,  96.3954, 229.7575],\n",
       "        [130.5913, 112.8048, 203.1138, 183.8854],\n",
       "        [127.3377, 134.6583, 213.1307, 211.6780],\n",
       "        [ 37.7629, 115.3950, 114.5514, 214.8996],\n",
       "        [  9.7481,  97.2313,  89.4899, 171.1831],\n",
       "        [122.1279,  93.8052, 220.3383, 185.1566]], device='cuda:0',\n",
       "       grad_fn=<IndexBackward>)"
      ]
     },
     "execution_count": 11,
     "metadata": {},
     "output_type": "execute_result"
    }
   ],
   "source": [
    "r_nms"
   ]
  },
  {
   "cell_type": "code",
   "execution_count": 12,
   "metadata": {},
   "outputs": [
    {
     "name": "stderr",
     "output_type": "stream",
     "text": [
      "/home/tim/.conda/envs/kaggle-auto/lib/python3.7/site-packages/ipykernel_launcher.py:1: UserWarning: Implicit dimension choice for softmax has been deprecated. Change the call to include dim=X as an argument.\n",
      "  \"\"\"Entry point for launching an IPython kernel.\n"
     ]
    },
    {
     "data": {
      "text/plain": [
       "tensor([[5.8181e-04, 1.2306e-01, 7.7162e-01, 1.0474e-01],\n",
       "        [1.3832e-03, 1.4352e-01, 7.2462e-01, 1.3047e-01],\n",
       "        [7.5676e-03, 2.1809e-01, 5.7613e-01, 1.9822e-01],\n",
       "        [8.4539e-03, 2.5149e-01, 5.8020e-01, 1.5985e-01],\n",
       "        [4.4113e-03, 1.9308e-01, 6.8787e-01, 1.1464e-01],\n",
       "        [2.8439e-02, 1.9919e-01, 6.1194e-01, 1.6043e-01],\n",
       "        [7.0215e-02, 1.8157e-01, 5.8672e-01, 1.6150e-01],\n",
       "        [1.0265e-03, 1.1140e-01, 8.0576e-01, 8.1814e-02],\n",
       "        [3.2258e-03, 1.5811e-01, 7.3764e-01, 1.0102e-01],\n",
       "        [4.5245e-02, 2.1911e-01, 6.0717e-01, 1.2847e-01],\n",
       "        [1.7211e-03, 1.5834e-01, 7.3572e-01, 1.0422e-01],\n",
       "        [2.1517e-02, 1.9430e-01, 5.7375e-01, 2.1043e-01],\n",
       "        [4.9092e-02, 1.8681e-01, 5.6489e-01, 1.9921e-01],\n",
       "        [1.1484e-02, 2.2195e-01, 5.6988e-01, 1.9669e-01]], device='cuda:0',\n",
       "       grad_fn=<SoftmaxBackward>)"
      ]
     },
     "execution_count": 12,
     "metadata": {},
     "output_type": "execute_result"
    }
   ],
   "source": [
    "F.softmax(rcnn_cls[0, rcnn_cls_mask, :])"
   ]
  },
  {
   "cell_type": "code",
   "execution_count": 13,
   "metadata": {},
   "outputs": [
    {
     "data": {
      "text/plain": [
       "tensor([9.9974e-01, 9.8545e-01, 4.6872e-03, 4.5933e-03, 2.4895e-03, 1.1009e-03,\n",
       "        7.8470e-04, 7.0790e-04, 6.7844e-04, 6.7101e-04, 5.9421e-04, 3.5471e-04,\n",
       "        1.3466e-04, 1.9284e-05], device='cuda:0', grad_fn=<SigmoidBackward>)"
      ]
     },
     "execution_count": 13,
     "metadata": {},
     "output_type": "execute_result"
    }
   ],
   "source": [
    "torch.sigmoid(r_nms_cls)"
   ]
  },
  {
   "cell_type": "code",
   "execution_count": 14,
   "metadata": {},
   "outputs": [
    {
     "data": {
      "image/png": "[encoded data removed]",
      "text/plain": [
       "<Figure size 720x720 with 1 Axes>"
      ]
     },
     "metadata": {
      "needs_background": "light"
     },
     "output_type": "display_data"
    }
   ],
   "source": [
    "fig, ax = plt.subplots(figsize=(10, 10))\n",
    "visualize_rpn(ax, r_nms.cpu(), r_nms_cls.cpu(), img.cpu()[0], color_map, draw_all=True)"
   ]
  },
  {
   "cell_type": "code",
   "execution_count": 15,
   "metadata": {},
   "outputs": [
    {
     "data": {
      "image/png": "[encoded data removed]",
      "text/plain": [
       "<Figure size 720x720 with 1 Axes>"
      ]
     },
     "metadata": {
      "needs_background": "light"
     },
     "output_type": "display_data"
    }
   ],
   "source": [
    "nms_reg_rounded = torch.round(r_nms * faster_rcnn.reduction) // faster_rcnn.reduction\n",
    "\n",
    "fig, ax = plt.subplots(figsize=(10, 10))\n",
    "visualize_rpn(ax, nms_reg_rounded.cpu()[:2], r_nms_cls.cpu()[:2], img.cpu()[0], color_map, draw_all=True)"
   ]
  },
  {
   "cell_type": "code",
   "execution_count": 16,
   "metadata": {},
   "outputs": [
    {
     "data": {
      "text/plain": [
       "tensor([-2.4492, -2.5148,  7.4183,  6.3506,  9.8927,  7.0014,  6.5531,  7.5117,\n",
       "         6.5531,  8.3855,  6.7725,  9.3627,  4.7846,  7.6589, -1.4492, -1.1967,\n",
       "        11.2054,  9.8359,  4.4785,  0.8485, -1.7926,  5.1718, 11.2472,  5.6088,\n",
       "        11.0014,  5.6191,  4.1790, 11.9420,  5.4214,  8.1887,  5.2589,  9.4593,\n",
       "         4.7343,  2.1730, -0.1467, 10.0153, 11.7442, 11.6100,  9.6058, 11.7478,\n",
       "        11.8551, 11.7021, 11.8238,  7.3168, 10.8387,  6.4528,  9.8355,  1.4718,\n",
       "         6.6197, 11.7559,  0.4944,  8.5054,  7.6821, 11.8250, -2.2294, -1.9069,\n",
       "         5.9009,  0.3067,  3.7668, -1.9159, 12.0703,  4.1084, 12.7202, 12.7675,\n",
       "        12.6949, 10.5307, 11.7931, 11.0665, 12.9057, 12.3793,  5.0632,  6.0937,\n",
       "        11.7727, -0.6244,  3.3609,  6.4993,  8.8123,  4.6510,  7.9977,  8.8204,\n",
       "         9.3673,  8.6410,  4.4203,  5.6581,  7.2032,  7.9698,  9.1721,  7.0302,\n",
       "         6.1532,  6.8150,  4.9655,  9.8519,  0.3630,  8.2963,  3.6937, 11.2192,\n",
       "         6.3772,  4.6044,  2.1505,  1.8234,  6.9131,  2.0051,  7.8772,  7.8786,\n",
       "         9.9156,  6.7622,  5.5703,  9.4181,  9.5192,  8.7425,  5.8121, 10.4982,\n",
       "        11.5701, 11.3761,  7.4224, 11.5082, 11.6247,  6.0395,  8.5275,  8.9215,\n",
       "         7.9155,  4.0664, 11.6671,  8.3741,  6.8143, 11.0096,  3.0747, 10.0548,\n",
       "         9.5290,  5.1985, 10.1860,  9.5303,  8.8543,  3.0607, 10.6407,  7.6963,\n",
       "         9.5942, 10.0004, 12.4810, 12.7430, 11.2545, 10.2319, 10.9044,  8.6355,\n",
       "         1.1595, 12.4968, 12.6599, 11.8583, 10.8893, 12.2586, 10.9457, 10.5739,\n",
       "        12.3941,  4.0481,  9.3626,  7.7684,  8.9588,  5.0139, 11.7461,  8.5701,\n",
       "        10.8884, 10.3458,  5.7639,  2.3872,  7.2900,  8.2864, 13.5724,  1.1356,\n",
       "         8.7385,  8.6785,  6.1098,  6.7258,  3.7983, 10.7579,  2.6878, 11.2915,\n",
       "         4.0803,  6.3431,  7.8558,  9.6504,  9.3070, -1.5026,  9.8133,  5.9452,\n",
       "         9.1991,  8.4041,  7.4924,  8.1417, 10.2509,  9.9706,  5.4030,  5.1119,\n",
       "         4.1790, 10.2035, 10.5468,  8.1757,  9.1686,  9.4276,  5.5033,  9.4446,\n",
       "        10.8879,  9.4676, 11.1794, 10.5101, 10.9235, 11.0537, 13.2996,  9.8432,\n",
       "         9.1371,  9.4446,  8.3371, 12.0631,  9.9917, 10.3024,  9.4971, 10.6040,\n",
       "         7.6569, 10.3024,  6.6441,  9.3566, 11.7836, 10.1980,  9.1875, 11.2915,\n",
       "         6.9455, 12.9368, 11.2059, 12.3361,  9.8977, 11.8946,  8.4608,  7.0531,\n",
       "         3.3107,  3.6682,  9.2684, 11.4379,  7.2143,  9.5787,  9.2684, 10.6880,\n",
       "        11.0111, 10.6835,  2.8732,  8.3787, 12.0312, 10.0395, 11.3038,  9.3900,\n",
       "         7.7845,  9.5819, 12.6972,  3.5050, 12.3361, 11.3791, 11.5682,  5.1038,\n",
       "        11.7405,  7.1166,  8.5267,  8.4000, 10.8449,  8.8599, 11.7405,  9.8280,\n",
       "         6.5629,  8.2379,  9.7585,  2.9975,  5.6040,  9.6022,  6.2671, 10.7625,\n",
       "        12.2486, 12.3843, 10.4612, 13.2842, 11.9492,  5.5132,  7.9691, 11.5664,\n",
       "         2.8125, 12.2825, 10.1192, 11.9056, 12.8052, 11.9853,  9.9715,  9.9933,\n",
       "         2.8593, 12.9198, 11.0537,  7.8279,  7.7240, 11.8358, 11.8212, 11.8127,\n",
       "        11.8821, 12.4763, 11.7941, 11.8471], device='cuda:0',\n",
       "       grad_fn=<SelectBackward>)"
      ]
     },
     "execution_count": 16,
     "metadata": {},
     "output_type": "execute_result"
    }
   ],
   "source": [
    "rcnn_cls[0, :, 0]"
   ]
  },
  {
   "cell_type": "code",
   "execution_count": null,
   "metadata": {},
   "outputs": [],
   "source": []
  },
  {
   "cell_type": "code",
   "execution_count": null,
   "metadata": {},
   "outputs": [],
   "source": []
  }
 ],
 "metadata": {
  "kernelspec": {
   "display_name": "kaggle-auto",
   "language": "python",
   "name": "kaggle-auto"
  },
  "language_info": {
   "codemirror_mode": {
    "name": "ipython",
    "version": 3
   },
   "file_extension": ".py",
   "mimetype": "text/x-python",
   "name": "python",
   "nbconvert_exporter": "python",
   "pygments_lexer": "ipython3",
   "version": "3.7.5"
  }
 },
 "nbformat": 4,
 "nbformat_minor": 4
}
