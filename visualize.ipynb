{
 "cells": [
  {
   "cell_type": "code",
   "execution_count": 1,
   "metadata": {},
   "outputs": [],
   "source": [
    "%load_ext autoreload\n",
    "%autoreload 2\n",
    "\n",
    "import os\n",
    "os.environ[\"CUDA_VISIBLE_DEVICES\"]=\"1\""
   ]
  },
  {
   "cell_type": "code",
   "execution_count": null,
   "metadata": {},
   "outputs": [
    {
     "name": "stderr",
     "output_type": "stream",
     "text": [
      "Epoch 0: 100%|██████████| 313/313 [02:39<00:00,  1.96it/s, loss=66.1, rpn_cls_loss=0.162, rpn_reg_loss=1.23, rcnn_cls_loss=0.534, rcnn_reg_loss=5.31, accuracy=34.4, offsets=5.78]\n",
      "Epoch 1:  23%|██▎       | 72/313 [00:37<02:02,  1.96it/s, loss=41.3, rpn_cls_loss=0.1, rpn_reg_loss=0.806, rcnn_cls_loss=0.428, rcnn_reg_loss=3.27, accuracy=38.7, offsets=3.73]   "
     ]
    }
   ],
   "source": [
    "from main import train\n",
    "\n",
    "faster_rcnn = train()"
   ]
  },
  {
   "cell_type": "code",
   "execution_count": null,
   "metadata": {},
   "outputs": [],
   "source": [
    "from torch.nn import functional as F\n",
    "import torchvision.transforms as transforms\n",
    "from torch import autograd, nn, optim, utils\n",
    "\n",
    "from dataset_test import Dataset, color_map\n",
    "from lib.predictor_efficient import FasterRCNNPredictor\n",
    "\n",
    "dataset = Dataset(transforms.Compose([transforms.ToTensor()]), min_bboxes=3, max_bboxes=7)\n",
    "dataloader = utils.data.DataLoader(dataset, batch_size=4, num_workers=12, shuffle=True)\n",
    "\n",
    "dataloader_iter = iter(dataloader)"
   ]
  },
  {
   "cell_type": "code",
   "execution_count": null,
   "metadata": {},
   "outputs": [],
   "source": [
    "faster_rcnn_predictor = FasterRCNNPredictor(faster_rcnn).cuda()"
   ]
  },
  {
   "cell_type": "code",
   "execution_count": null,
   "metadata": {},
   "outputs": [],
   "source": [
    "import matplotlib.pyplot as plt\n",
    "%matplotlib inline\n",
    "\n",
    "import torch\n",
    "\n",
    "from helper import visualize_anchors, visualize_rpn, visualize_rcnn, img_to_np\n",
    "\n",
    "img, targets, classes = next(dataloader_iter)\n",
    "img = img.float().cuda()\n",
    "targets = targets.detach().float().cuda()\n",
    "img_id = torch.arange(0, img.size()[0])\n",
    "\n",
    "nms_reg_rounded, nms_reg, nms_cls, rcnn_reg, rcnn_cls, reg, cls = faster_rcnn_predictor(img, img_id)\n",
    "\n",
    "i = 1\n",
    "\n",
    "fig, ax = plt.subplots(figsize=(10, 10))\n",
    "np_img = img_to_np(img[i])\n",
    "ax.imshow(np_img)\n",
    "visualize_rpn(ax, nms_reg.cpu()[i], nms_cls.cpu()[i], img.cpu()[i], [1.0, 1.0, 1.0], draw_all=False)\n",
    "visualize_rpn(ax, nms_reg_rounded.cpu()[i], nms_cls.cpu()[i], img.cpu()[i], [1.0, 0, 0], draw_all=False)\n",
    "plt.show()"
   ]
  },
  {
   "cell_type": "code",
   "execution_count": null,
   "metadata": {},
   "outputs": [],
   "source": [
    "fig, ax = plt.subplots(figsize=(10, 10))\n",
    "np_img = img_to_np(img[i])\n",
    "ax.imshow(np_img)\n",
    "visualize_rcnn(ax, reg[i].cpu(), cls[i].cpu(), color_map)\n",
    "plt.show()"
   ]
  }
 ],
 "metadata": {
  "kernelspec": {
   "display_name": "kaggle-auto",
   "language": "python",
   "name": "kaggle-auto"
  },
  "language_info": {
   "codemirror_mode": {
    "name": "ipython",
    "version": 3
   },
   "file_extension": ".py",
   "mimetype": "text/x-python",
   "name": "python",
   "nbconvert_exporter": "python",
   "pygments_lexer": "ipython3",
   "version": "3.7.5"
  }
 },
 "nbformat": 4,
 "nbformat_minor": 4
}
