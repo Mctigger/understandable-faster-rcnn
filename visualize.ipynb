{
 "cells": [
  {
   "cell_type": "code",
   "execution_count": 1,
   "metadata": {},
   "outputs": [],
   "source": [
    "%load_ext autoreload\n",
    "%autoreload 2\n",
    "\n",
    "import os\n",
    "os.environ[\"CUDA_VISIBLE_DEVICES\"]=\"1\""
   ]
  },
  {
   "cell_type": "code",
   "execution_count": 2,
   "metadata": {},
   "outputs": [
    {
     "name": "stderr",
     "output_type": "stream",
     "text": [
      "Epoch 0: 100%|██████████| 313/313 [01:55<00:00,  2.70it/s, loss=66.7, rpn_cls_loss=0.168, rpn_reg_loss=1.32, rcnn_cls_loss=0.494, rcnn_reg_loss=5.28, accuracy=38.8, offsets=5.75]\n"
     ]
    }
   ],
   "source": [
    "from main import train\n",
    "\n",
    "faster_rcnn = train()"
   ]
  },
  {
   "cell_type": "code",
   "execution_count": 5,
   "metadata": {},
   "outputs": [
    {
     "name": "stdout",
     "output_type": "stream",
     "text": [
      "defaultdict(<class 'int'>, {'forward_backbone': 18.05685783700619, 'forward_rpn': 3.1292235049963892, 'forward_nms': 5.323971187001462, 'forward_roi_pooling': 3.0274383310011217, 'forward_rcnn': 9.694891438000468})\n",
      "defaultdict(<class 'int'>, {'forward_rpn_trainer_match_target_to_anchor': 0.34172457700333325, 'forward_rpn_trainer': 0.6019632110014754, 'forward_rcnn_trainer': 14.1993548260034})\n"
     ]
    }
   ],
   "source": [
    "from lib.faster_rcnn_profiling import profiler as rcnn_profiler\n",
    "from lib.trainer_efficient import profiler as trainer_profiler\n",
    "\n",
    "print(rcnn_profiler.stats)\n",
    "\n",
    "print(trainer_profiler.stats)"
   ]
  },
  {
   "cell_type": "code",
   "execution_count": null,
   "metadata": {},
   "outputs": [],
   "source": [
    "from torch.nn import functional as F\n",
    "import torchvision.transforms as transforms\n",
    "from torch import autograd, nn, optim, utils\n",
    "\n",
    "from dataset_test import Dataset, color_map\n",
    "from lib.predictor_efficient import FasterRCNNPredictor\n",
    "\n",
    "dataset = Dataset(transforms.Compose([transforms.ToTensor()]), min_bboxes=3, max_bboxes=7)\n",
    "dataloader = utils.data.DataLoader(dataset, batch_size=4, num_workers=12, shuffle=True)\n",
    "\n",
    "dataloader_iter = iter(dataloader)"
   ]
  },
  {
   "cell_type": "code",
   "execution_count": null,
   "metadata": {},
   "outputs": [],
   "source": [
    "faster_rcnn_predictor = FasterRCNNPredictor(faster_rcnn).cuda()"
   ]
  },
  {
   "cell_type": "code",
   "execution_count": null,
   "metadata": {},
   "outputs": [],
   "source": [
    "import matplotlib.pyplot as plt\n",
    "%matplotlib inline\n",
    "\n",
    "import torch\n",
    "\n",
    "from helper import visualize_anchors, visualize_rpn, visualize_rcnn, img_to_np\n",
    "\n",
    "img, targets, classes = next(dataloader_iter)\n",
    "img = img.float().cuda()\n",
    "targets = targets.detach().float().cuda()\n",
    "img_id = torch.arange(0, img.size()[0])\n",
    "\n",
    "nms_reg_rounded, nms_reg, nms_cls, rcnn_reg, rcnn_cls, reg, cls = faster_rcnn_predictor(img)\n",
    "\n",
    "i = 1\n",
    "\n",
    "fig, ax = plt.subplots(figsize=(10, 10))\n",
    "np_img = img_to_np(img[i])\n",
    "ax.imshow(np_img)\n",
    "visualize_rpn(ax, nms_reg.cpu()[i], nms_cls.cpu()[i], img.cpu()[i], [1.0, 1.0, 1.0], draw_all=False)\n",
    "visualize_rpn(ax, nms_reg_rounded.cpu()[i], nms_cls.cpu()[i], img.cpu()[i], [1.0, 0, 0], draw_all=False)\n",
    "plt.show()"
   ]
  },
  {
   "cell_type": "code",
   "execution_count": null,
   "metadata": {},
   "outputs": [],
   "source": [
    "fig, ax = plt.subplots(figsize=(10, 10))\n",
    "np_img = img_to_np(img[i])\n",
    "ax.imshow(np_img)\n",
    "visualize_rcnn(ax, reg[i].cpu(), cls[i].cpu(), color_map)\n",
    "plt.show()"
   ]
  },
  {
   "cell_type": "code",
   "execution_count": null,
   "metadata": {},
   "outputs": [],
   "source": []
  }
 ],
 "metadata": {
  "kernelspec": {
   "display_name": "kaggle-auto",
   "language": "python",
   "name": "kaggle-auto"
  },
  "language_info": {
   "codemirror_mode": {
    "name": "ipython",
    "version": 3
   },
   "file_extension": ".py",
   "mimetype": "text/x-python",
   "name": "python",
   "nbconvert_exporter": "python",
   "pygments_lexer": "ipython3",
   "version": "3.7.5"
  }
 },
 "nbformat": 4,
 "nbformat_minor": 4
}
